{
 "cells": [
  {
   "cell_type": "markdown",
   "metadata": {},
   "source": [
    "# Section 3.1 Single Model Visual Diagnostics\n",
    "*How can we determine that our MCMC sample/sampling has converged?*"
   ]
  },
  {
   "cell_type": "code",
   "execution_count": 1,
   "metadata": {},
   "outputs": [
    {
     "name": "stderr",
     "output_type": "stream",
     "text": [
      "WARNING (theano.configdefaults): install mkl with `conda install mkl-service`: No module named 'mkl'\n"
     ]
    }
   ],
   "source": [
    "import os\n",
    "import time\n",
    "\n",
    "import arviz as az\n",
    "import numpy as np\n",
    "import pymc3 as pm\n",
    "import scipy.stats as stats\n",
    "\n",
    "from utils import metropolis_hastings\n",
    "\n",
    "np.random.seed(0)\n",
    "\n",
    "NETCDF_DIR = \"inference_data\""
   ]
  },
  {
   "cell_type": "markdown",
   "metadata": {},
   "source": [
    "## Learning Objectives\n",
    "* Understand Hamiltonian Monte Carlo sampler basics\n",
    "* Visualize and interpret single model diagnostics such as TracePlot and Autocorrelation plot\n",
    "* Calculate and interpret single model diagnostic calculations \n",
    "* Gain profiency with Xarray, NetCDF, and az.InferenceData objects"
   ]
  },
  {
   "cell_type": "markdown",
   "metadata": {},
   "source": [
    "## MCMC is great but its not perfect\n",
    "Recall that Monte Carlo Markov Chain are handy mathematical trick that let's us compute posteriors, without needing to compute the denonimator of Bayes rule, but it has tradeoffs. Most notably **finite Monte Carlo Markov Chains are not gauranteed to converge to the true parameter value**\n",
    "\n",
    "This is not to say finite MCMC chains are always wrong, but it does mean that when using MCMC inference methods it is prudent to check the results diagnostic methods. In this tutorial we'll cover both numerical and visual methods\n",
    "\n",
    "### Desirable characteristics in MCMC chains\n",
    "Bayesian MCMC modelers want *a large number of samples from well mixed chains*. Typically this indicates that *the chains are stationary and have converged*. We'll illustrate the meaning and intuition behind these statements below."
   ]
  },
  {
   "cell_type": "markdown",
   "metadata": {},
   "source": [
    "## A story of two Inference Runs\n",
    "In demonstrating what good and \"bad\" diagnostics look like we will be reusing our Metropolis Hasting sampler. \n",
    "\n",
    "Recall that our data has been generated from the following distribution\n",
    "$$ y \\sim N(30,1) $$\n",
    "\n",
    "\n",
    "**Insert Model Here**\n",
    "\n",
    "For our small simulated model, by mathematical intuition, we know that $mu \\sim 30-20 \\sim 10$ but let's see if we can get there using Inference\n",
    "\n",
    "Let's generate some data first"
   ]
  },
  {
   "cell_type": "code",
   "execution_count": 2,
   "metadata": {},
   "outputs": [],
   "source": [
    "data = stats.norm.rvs(loc=30, scale=1, size=1000).flatten()"
   ]
  },
  {
   "cell_type": "markdown",
   "metadata": {},
   "source": [
    "## Visual Diagnostics\n",
    "### Traceplot"
   ]
  },
  {
   "cell_type": "markdown",
   "metadata": {},
   "source": [
    "Traceplots help us \"trace\" the steps of the MCMC chain. Things to look for in traceplots are \n",
    "* Mixing of chains\n",
    "* No long regions of monoticity \n",
    "\n",
    "This indicates that the MCMC chain is able to readily sampling the posterior distribution and provide some confidence that regions of the posterior are not being excluded. Traceplots can help diagnose problems such as \n",
    "\n",
    "* Multimodal posteriors\n",
    "* Bad intialization\n",
    "* Difficult sampling topologies (such as Neal's funnel)\n",
    "\n",
    "Typically you'll hear that traceplots should look like \"fuzzy\" caterpillars. In ArviZ `plot_trace` returns a traceplot for each variable on the right column, and on the left a kde plot, for continuous variables, or histogram for discrete variables."
   ]
  },
  {
   "cell_type": "markdown",
   "metadata": {},
   "source": [
    "### Example 1: Bad initialization\n",
    "Recall that MCMC is very sensitive to starting points of each chain, similar to gradient descent or random weights in Neural Nets. To illusrate example let's \"randomly\" pick -50 and 60 as our starting points for each chain."
   ]
  },
  {
   "cell_type": "code",
   "execution_count": 3,
   "metadata": {},
   "outputs": [
    {
     "data": {
      "text/plain": [
       "<xarray.Dataset>\n",
       "Dimensions:  (chain: 2, draw: 201)\n",
       "Coordinates:\n",
       "  * chain    (chain) int64 0 1\n",
       "  * draw     (draw) int64 0 1 2 3 4 5 6 7 8 ... 193 194 195 196 197 198 199 200\n",
       "Data variables:\n",
       "    θ        (chain, draw) float64 60.0 60.0 60.0 59.79 ... -6.621 -6.601 -6.288\n",
       "Attributes:\n",
       "    created_at:  2019-05-05T04:07:12.504547"
      ]
     },
     "execution_count": 3,
     "metadata": {},
     "output_type": "execute_result"
    }
   ],
   "source": [
    "# \"Randomly\" pick -50 and 60 as start points\n",
    "samples = 200\n",
    "chain_0 = metropolis_hastings.mh_sampler(data=data, samples=samples, mu_init=60)\n",
    "chain_1 = metropolis_hastings.mh_sampler(data=data, samples=samples, mu_init=-50)\n",
    "data_bad_init = az.from_dict({\"θ\":[chain_0, chain_1]}, dims={\"chain\":[0, 1]})\n",
    "data_bad_init.posterior"
   ]
  },
  {
   "cell_type": "code",
   "execution_count": 4,
   "metadata": {},
   "outputs": [
    {
     "data": {
      "text/plain": [
       "array([[<matplotlib.axes._subplots.AxesSubplot object at 0x7f35fdd2c8d0>,\n",
       "        <matplotlib.axes._subplots.AxesSubplot object at 0x7f35fdc45dd8>]],\n",
       "      dtype=object)"
      ]
     },
     "execution_count": 4,
     "metadata": {},
     "output_type": "execute_result"
    },
    {
     "data": {
      "image/png": "[encoded data removed]",
      "text/plain": [
       "<Figure size 864x144 with 2 Axes>"
      ]
     },
     "metadata": {
      "needs_background": "light"
     },
     "output_type": "display_data"
    }
   ],
   "source": [
    "az.to_netcdf(data_bad_init, os.path.join(NETCDF_DIR, \"data_bad_init.nc\"))\n",
    "az.plot_trace(data_bad_init)"
   ]
  },
  {
   "cell_type": "markdown",
   "metadata": {},
   "source": [
    "In this traceplot the chains have not converged to a single value. Both seem to be trending towards a value, but that value hasn't been reached. Additionally the posterior does not seem to follow any known distribution. This is concerning as we were expecting our model to exhibit a Gaussian behavior but it's hard to see one\n",
    "In practice picking initialization points a challenge and a [number of strategies exist](https://docs.pymc.io/api/inference.html)\n",
    "\n",
    "#### Suggested actions\n",
    "* Try different initialization strategies\n",
    "* Run inference across more chains in different points"
   ]
  },
  {
   "cell_type": "markdown",
   "metadata": {},
   "source": [
    "### Example 2: Better starting points, No Warmup Period\n",
    "For purposes of learning we'll cheat again and manually set favorable (Close to 10) using prior knowledge, and then start running inference.\n",
    "wever the first 20 samples are concerning as they seem to have a trend, and rather than exploring the posterior seem to still be in the process of converging.\n",
    "\n",
    "Note: Another term used is (but there are disagreements"
   ]
  },
  {
   "cell_type": "code",
   "execution_count": null,
   "metadata": {},
   "outputs": [
    {
     "name": "stdout",
     "output_type": "stream",
     "text": [
      "0.975548267364502\n"
     ]
    }
   ],
   "source": [
    "start = time.time()\n",
    "# \"Better\" Chain Starting points of 8 and 13\n",
    "samples = 200\n",
    "chain_0 = metropolis_hastings.mh_sampler(data=data, samples=samples, mu_init=8)\n",
    "chain_1 = metropolis_hastings.mh_sampler(data=data, samples=samples, mu_init=13)\n",
    "data_good_init = az.from_dict({\"θ\":[chain_0, chain_1]}, dims={\"chain\":[0, 1]});\n",
    "print(time.time()-start)"
   ]
  },
  {
   "cell_type": "code",
   "execution_count": null,
   "metadata": {},
   "outputs": [
    {
     "data": {
      "text/plain": [
       "Inference data with groups:\n",
       "\t> posterior"
      ]
     },
     "execution_count": 6,
     "metadata": {},
     "output_type": "execute_result"
    }
   ],
   "source": [
    "az.to_netcdf(data_good_init, os.path.join(NETCDF_DIR, \"data_good_init.nc\"))\n",
    "data_good_init"
   ]
  },
  {
   "cell_type": "code",
   "execution_count": null,
   "metadata": {},
   "outputs": [
    {
     "data": {
      "text/plain": [
       "<xarray.Dataset>\n",
       "Dimensions:  (chain: 2, draw: 201)\n",
       "Coordinates:\n",
       "  * chain    (chain) int64 0 1\n",
       "  * draw     (draw) int64 0 1 2 3 4 5 6 7 8 ... 193 194 195 196 197 198 199 200\n",
       "Data variables:\n",
       "    θ        (chain, draw) float64 8.0 8.0 8.0 8.0 ... 9.967 9.967 9.967 9.967\n",
       "Attributes:\n",
       "    created_at:  2019-05-05T04:07:13.805511"
      ]
     },
     "execution_count": 7,
     "metadata": {},
     "output_type": "execute_result"
    }
   ],
   "source": [
    "data_good_init.posterior"
   ]
  },
  {
   "cell_type": "code",
   "execution_count": null,
   "metadata": {},
   "outputs": [
    {
     "data": {
      "text/plain": [
       "array([[<matplotlib.axes._subplots.AxesSubplot object at 0x7f35fb503128>,\n",
       "        <matplotlib.axes._subplots.AxesSubplot object at 0x7f35fb4d4b38>]],\n",
       "      dtype=object)"
      ]
     },
     "execution_count": 8,
     "metadata": {},
     "output_type": "execute_result"
    },
    {
     "data": {
      "image/png": "[encoded data removed]",
      "text/plain": [
       "<Figure size 864x144 with 2 Axes>"
      ]
     },
     "metadata": {
      "needs_background": "light"
     },
     "output_type": "display_data"
    }
   ],
   "source": [
    "az.plot_trace(data_good_init)"
   ]
  },
  {
   "cell_type": "markdown",
   "metadata": {},
   "source": [
    "The chains seem to have converged this time, reaching the approximate value of 10 even though they started above and below their final value. This gives us confidence that 10 is a correct value for the posterior. Still there are issues, Each individual chain seems to have only sampled one side of the distribution, and there clearly is a region at the start `of correlated progress."
   ]
  },
  {
   "cell_type": "markdown",
   "metadata": {},
   "source": [
    "#### Suggested Actions\n",
    "From the traceplot it looks like this model needs time to \"warmup\". Warmup samples are ones that samples that are discarded at the start of the chain while the chains begin to converge. \n",
    "\n",
    "* Discard samples near the start of a chain "
   ]
  },
  {
   "cell_type": "markdown",
   "metadata": {},
   "source": [
    "### Example: Same trace with warm up period\n",
    "In our simple sampler we can discard the first 20 samples as warmup samples. This value was determined by looking at the trace plot and approximating where the chains meet.\n",
    "\n",
    "Note: Another term you might see is [burn in](https://statmodeling.stat.columbia.edu/2017/12/15/burn-vs-warm-iterative-simulation-algorithms/). There's some nuances as to why it may be different, but the essence is the same, use the first part of the chain to \"get settled\" and disregard those samples when estimating the posterior"
   ]
  },
  {
   "cell_type": "code",
   "execution_count": null,
   "metadata": {},
   "outputs": [
    {
     "data": {
      "text/plain": [
       "array([[<matplotlib.axes._subplots.AxesSubplot object at 0x7f35fb444f28>,\n",
       "        <matplotlib.axes._subplots.AxesSubplot object at 0x7f35f8d3e978>]],\n",
       "      dtype=object)"
      ]
     },
     "execution_count": 9,
     "metadata": {},
     "output_type": "execute_result"
    },
    {
     "data": {
      "image/png": "[encoded data removed]",
      "text/plain": [
       "<Figure size 864x144 with 2 Axes>"
      ]
     },
     "metadata": {
      "needs_background": "light"
     },
     "output_type": "display_data"
    }
   ],
   "source": [
    "az.plot_trace(data_good_init.posterior.sel(draw=slice(30, None)))"
   ]
  },
  {
   "cell_type": "markdown",
   "metadata": {},
   "source": [
    "This is a little better, the chains are now mixing fairly well and holding to a tight boundary. However the posterior plot and traceplot still raise concerns. The traceplot is still fairly \"jagged\" and which is also reflected a very odd distribution in the posterior plot. The Metropolis Hastings algorithm seems to have trouble exploring the distribution. One thing we could do is tune the Metropolis Hasting sampler, remember that there is a proposal distribution and acceptance criteria. By tuning these we could do better, but frankly speaking this is hard. \n",
    "\n",
    "We could also just take a lot more samples. \n",
    "\n",
    "#### Suggestions\n",
    "* Tune the Metropolis Hastings Sampler (But this is both hard and annoying)\n",
    "* Take a lot more samples"
   ]
  },
  {
   "cell_type": "markdown",
   "metadata": {},
   "source": [
    "### Example: Same sampler with a lot more samples\n",
    "As mentioned tuning the Metroplis Hastings algorithm is not fun. Thinking back to the theory, if we have sample an infinite amount of times then the samples will converge to the true posterior distribution. Let's just do the easy thing and run more samples."
   ]
  },
  {
   "cell_type": "code",
   "execution_count": null,
   "metadata": {},
   "outputs": [],
   "source": [
    "start = time.time()\n",
    "\n",
    "samples = 20000\n",
    "chain_0 = metropolis_hastings.mh_sampler(data=data, samples=samples, mu_init=8)\n",
    "chain_1 = metropolis_hastings.mh_sampler(data=data, samples=samples, mu_init=13)\n",
    "data_good_init_long_chain = az.from_dict({\"θ\":[chain_0, chain_1]}, dims={\"chain\":[0, 1]})\n",
    "\n",
    "print(time.time()-start)"
   ]
  },
  {
   "cell_type": "code",
   "execution_count": null,
   "metadata": {},
   "outputs": [],
   "source": [
    "az.to_netcdf(data_good_init_long_chain, os.path.join(NETCDF_DIR, \"data_good_init_long_chain.nc\"))\n",
    "data_good_init_long_chain.posterior"
   ]
  },
  {
   "cell_type": "code",
   "execution_count": null,
   "metadata": {},
   "outputs": [],
   "source": [
    "az.plot_trace(data_good_init_long_chain.posterior.sel(draw=slice(30, None)))"
   ]
  },
  {
   "cell_type": "markdown",
   "metadata": {},
   "source": [
    "After 1.5 minutes on this computer the results look better. The traceplot is resembles a \"fuzzy caterpillar\", and both posterio chains look like a normal distribution, and more closely resemble each other. By taking a lot more samples we're able to get a posterior distribution that plausibly could be *mu*. \n",
    "  \n",
    "We can use the same the strategy with the bad initialization as well if we take more samples and wait a bit longer."
   ]
  },
  {
   "cell_type": "code",
   "execution_count": null,
   "metadata": {},
   "outputs": [],
   "source": [
    "start = time.time()\n",
    "\n",
    "# \"Randomly\" pick -50 and 60 as start points but take a lot more samples this time\n",
    "samples = 40000\n",
    "chain_0 = metropolis_hastings.mh_sampler(data=data, samples=samples, mu_init=60)\n",
    "chain_1 = metropolis_hastings.mh_sampler(data=data, samples=samples, mu_init=-50)\n",
    "data_bad_init_longer_chain = az.from_dict({\"θ\":[chain_0, chain_1]}, dims={\"chain\":[0, 1]})\n",
    "\n",
    "print(time.time()-start)"
   ]
  },
  {
   "cell_type": "code",
   "execution_count": null,
   "metadata": {},
   "outputs": [],
   "source": [
    "az.to_netcdf(data_bad_init_longer_chain, os.path.join(NETCDF_DIR, \"data_bad_init_longer_chain.nc\"))\n",
    "data_bad_init_longer_chain.posterior"
   ]
  },
  {
   "cell_type": "code",
   "execution_count": null,
   "metadata": {},
   "outputs": [],
   "source": [
    "az.plot_trace(data_bad_init_longer_chain.posterior.sel(draw=slice(5000, None)))"
   ]
  },
  {
   "cell_type": "markdown",
   "metadata": {},
   "source": [
    "After 3 minutes we have results. We need to throw away more samples, arbitrarily picking 5000, but the resulting plots look even better, and all we needed to do is wait longer. This is great news if you have infinite time and computing power. Unfortunately most humans don't live an infinite time span, nor do they want to be at work for an infinite amount of time so we need to do better."
   ]
  },
  {
   "cell_type": "markdown",
   "metadata": {},
   "source": [
    "### Tuned Metropolis Hastings\n",
    "In our basic version of Metropolis Hastings the acceptance threshold for a proposal, and the proposal width stayed fixed. Improved implemented of Metropolis Hastings, such as the one in PyMC3, perform some tuning first to determine parameters better fitted to the model and data, and use those instead. "
   ]
  },
  {
   "cell_type": "code",
   "execution_count": null,
   "metadata": {},
   "outputs": [],
   "source": [
    "with pm.Model() as basic_model:\n",
    "    θ = pm.Normal(\"θ\", 0, 20)\n",
    "    y = pm.Normal(\"y\", mu=θ+20, observed=data)\n",
    "    step = pm.Metropolis() \n",
    "    trace = pm.sample(5000, tune=1000, chains=2, step=step)"
   ]
  },
  {
   "cell_type": "code",
   "execution_count": null,
   "metadata": {},
   "outputs": [],
   "source": [
    "data_tuned_mh = az.from_pymc3(trace=trace)\n",
    "az.to_netcdf(data_tuned_mh, os.path.join(NETCDF_DIR, \"data_tuned_mh.nc\"))\n",
    "az.plot_trace(data_tuned_mh)"
   ]
  },
  {
   "cell_type": "markdown",
   "metadata": {},
   "source": [
    "Even though we're using the same class of MCMC samlper, Metropolis Hastings, notice how much better both the KDE and Traceplot look. This highlights one of the benefits of using a PPL. In addition to getting an easier syntax to define models, PPLs come prepackaged with more sophisticated implementations of algorithms. Metropolis Hastings is just the start."
   ]
  },
  {
   "cell_type": "markdown",
   "metadata": {},
   "source": [
    "### Hamiltonian Monte Carlo: Better Living Through Physics\n",
    "\n",
    "Stealing a title and quoting directly from [Richard McElreath's blog](http://elevanth.org/blog/2017/11/28/build-a-better-markov-chain/)  \n",
    "*If there’s a random way to do something, there’s usually a less random way that is both better and requires more thought. Instead of making random proposals, suppose instead that you run a physics simulation. This is going to sound crazy, but it isn’t.*  \n",
    "\n",
    "What's he's referring to is the Hamiltonian class of samplers. At the core these samplers use principles from physics to select next points, think of riding a roller coaster with your eyes shut. By feeling how fast a roller coaster is going, you can deduce if you're at the bottom of the ride, or at the top. In addition to physics simulations PPLs such as PyMC3 and Stan implement various other tricks, called tuning, to help a Bayesian Modeler (usually) get good samples quickly with minimal fuss."
   ]
  },
  {
   "cell_type": "code",
   "execution_count": null,
   "metadata": {},
   "outputs": [],
   "source": [
    "with pm.Model() as basic_model:\n",
    "    θ = pm.Normal(\"θ\", 0, 20)\n",
    "    y = pm.Normal(\"y\", mu=θ+20, observed=data)\n",
    "    trace = pm.sample(5000, tune=2000, chains=2)"
   ]
  },
  {
   "cell_type": "code",
   "execution_count": null,
   "metadata": {},
   "outputs": [],
   "source": [
    "data_hmc = az.from_pymc3(trace=trace)\n",
    "az.to_netcdf(data_hmc, os.path.join(NETCDF_DIR, \"data_hmc.nc\"))\n",
    "az.plot_trace(data_hmc)"
   ]
  },
  {
   "cell_type": "code",
   "execution_count": null,
   "metadata": {},
   "outputs": [],
   "source": [
    "data_hmc.sample_stats"
   ]
  },
  {
   "cell_type": "markdown",
   "metadata": {},
   "source": [
    "## Autocorrelation Plot\n",
    "Another method to check convergence is to see if the samples are linearly correlated with each other. Auto just means checking correlation in the same chain.\n",
    "Here's the formula for autocorrelation is as follows\n",
    "\n",
    "$$\\large \\rho_{lag} = \\frac{\\Sigma_{i}^{N-lag} (\\theta_{i} - \\overline{\\theta})(\\theta_{i + lag} - \\overline{\\theta})}{\\Sigma_{i}^{N}(\\theta_{i} - \\overline{\\theta})}$$\n",
    "\n",
    "\n",
    "### Highly correlated chain\n",
    "We'll make some fake chains to illustrate. For one extreme let's create a fake chain that's as correlated as you can get, a straight line."
   ]
  },
  {
   "cell_type": "code",
   "execution_count": null,
   "metadata": {},
   "outputs": [],
   "source": [
    "chain = np.arange(500)\n",
    "az.plot_autocorr(chain)"
   ]
  },
  {
   "cell_type": "markdown",
   "metadata": {},
   "source": [
    "If we look at value 40, what this is telling us is that `chain[0 :(500-40)]` still has about a .75 value of correlation with `chain[40 :500-40]`. Remember that we're looking for that \"fuzzy caterpillar\" and in math terms that means random behavior. If our chain has converged it shouldn't be trending in just one direction.\n",
    "\n",
    "Contrast the above chain with random draws from a normal distribution"
   ]
  },
  {
   "cell_type": "code",
   "execution_count": null,
   "metadata": {},
   "outputs": [],
   "source": [
    "chain = stats.norm.rvs(0,1,size=500)\n",
    "az.plot_autocorr(chain)"
   ]
  },
  {
   "cell_type": "markdown",
   "metadata": {},
   "source": [
    "Values closer to zero indiciate that the chain behavior is more random, and that there aren't long regions of linear patterns in the chain. In a converged chain this is the expected behavior. In the following notebook we'll be analyzing the datasets above with autocorrelation plots to get further practice for their interpretation."
   ]
  }
 ],
 "metadata": {
  "kernelspec": {
   "display_name": "Python 3",
   "language": "python",
   "name": "python3"
  },
  "language_info": {
   "codemirror_mode": {
    "name": "ipython",
    "version": 3
   },
   "file_extension": ".py",
   "mimetype": "text/x-python",
   "name": "python",
   "nbconvert_exporter": "python",
   "pygments_lexer": "ipython3",
   "version": "3.6.8"
  }
 },
 "nbformat": 4,
 "nbformat_minor": 2
}
