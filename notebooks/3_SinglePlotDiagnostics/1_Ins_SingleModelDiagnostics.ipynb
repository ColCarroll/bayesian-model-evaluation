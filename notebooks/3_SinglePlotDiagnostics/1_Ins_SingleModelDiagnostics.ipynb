{
 "cells": [
  {
   "cell_type": "markdown",
   "metadata": {},
   "source": [
    "# Section 3.1 Single Model Diagnostics\n",
    "* How can we determine that our MCMC model has converged?*"
   ]
  },
  {
   "cell_type": "code",
   "execution_count": null,
   "metadata": {},
   "outputs": [],
   "source": [
    "import arviz as az"
   ]
  },
  {
   "cell_type": "markdown",
   "metadata": {},
   "source": [
    "## Learning Objectives\n",
    "* Understand Hamiltonian Monte Carlo sampler basics\n",
    "* Visualize and interpret single model diagnostics such as TracePlot, Autocorrelation, and Energy Plot\n",
    "* Calculate and interpret single model diagnostic calculations \n",
    "* Gain profiency with Xarray, NetCDF, and az.InferenceData objects"
   ]
  },
  {
   "cell_type": "markdown",
   "metadata": {},
   "source": [
    "## MCMC is great but its not perfect\n",
    "Recall that Monte Carlo Markov Chain are handy mathematical trick that let's us compute posteriors, without needing to compute the denonimator of Bayes rule, but it has tradeoffs. Most notably **finite Monte Carlo Markov Chains are not gauranteed to converge to the true parameter value**\n",
    "\n",
    "This is not to say finite MCMC chains are always wrong, but it does mean that when using MCMC inference methods it is prudent to check the results diagnostic methods. In this tutorial we'll cover both numerical and visual methods\n",
    "\n",
    "## Numerical Diagnostics\n",
    "Numerical diagnostics are great for quickly understanding the characteristics of an MCMC chain. We will be covering two\n",
    "\n",
    "* Effective Sample Size\n",
    "* Rhat"
   ]
  }
 ],
 "metadata": {
  "kernelspec": {
   "display_name": "Python 3",
   "language": "python",
   "name": "python3"
  },
  "language_info": {
   "codemirror_mode": {
    "name": "ipython",
    "version": 3
   },
   "file_extension": ".py",
   "mimetype": "text/x-python",
   "name": "python",
   "nbconvert_exporter": "python",
   "pygments_lexer": "ipython3",
   "version": "3.6.8"
  }
 },
 "nbformat": 4,
 "nbformat_minor": 2
}
