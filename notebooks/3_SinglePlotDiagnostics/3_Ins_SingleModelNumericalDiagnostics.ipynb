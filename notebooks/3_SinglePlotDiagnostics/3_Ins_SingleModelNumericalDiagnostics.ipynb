{
 "cells": [
  {
   "cell_type": "markdown",
   "metadata": {},
   "source": [
    "# Section 3.3 Single Model Numerical Diagnostics"
   ]
  },
  {
   "cell_type": "code",
   "execution_count": 1,
   "metadata": {},
   "outputs": [],
   "source": [
    "import arviz as az"
   ]
  },
  {
   "cell_type": "markdown",
   "metadata": {},
   "source": [
    "## What happened to hard numbers?\n",
    "One criticism of visual plots is that while objectively calculated, their interpretation is subjective. Also when running one model its relatively simple to visually inspect the results, but if testing out various models looking over many traceplots and autocorrelation diagrams becomes statistician time intensive. (We'll talk more about multiple models in Section 5.) Luckily some smart minds have realized this as well and have provided a solutions.\n",
    "\n",
    "\n",
    "## $\\hat{R}$ and Effective Sample Size\n",
    "Recall the two pertinent questions MCMC practioners should always ask when making Posterior estimations\n",
    "\n",
    "* Did the chains mix well?\n",
    "* Did we get enough samples?\n",
    "\n",
    "\n",
    "These questions are paraphrased from the paper published in March of 2019 **Rank-normalization, folding, and localization: An improved $\\hat{R}$ for assessing convergence of MCMC** by [Vehtari etal](https://arxiv.org/abs/1903.08008), and thankfully the paper provides $\\hat{R}$ and Effective Sample Size (ESS) as tools to help answer them.\n",
    "\n",
    "### Warning: Active Research Zone\n",
    "Bayesian Statistics is an ever evolving field and numerous versions of $\\hat{R}$ and Effective Sample Size (ESS) calculations have been proposed over the years. the first of which was published way back in 1992. In this tutorial we will be covering the calucation from the 2019 paper (linked again [here]((https://arxiv.org/abs/1903.08008)))\n",
    "Just be mindful that when looking at older papers or results the diagnostics will answer the same question, but the exact calculation may differ.\n",
    "\n",
    "The prior papers are linked here for reference.\n",
    "\n",
    "[Gelman and Rubin (1992)](https://projecteuclid.org/euclid.ss/1177011136)  \n",
    "[Brooks and Gelman (1998)](http://www2.stat.duke.edu/~scs/Courses/Stat376/Papers/ConvergeDiagnostics/BrooksGelman.pdf)  \n",
    "[Gelman et al. Bayesian Data Analysis (2014)](http://www.stat.columbia.edu/~gelman/book/)\n",
    "\n"
   ]
  },
  {
   "cell_type": "markdown",
   "metadata": {},
   "source": [
    "### $\\hat{R}$ (also known as R hat)\n",
    "The first question we'll try and answer is if the chains have mixed well. The summarized formula is\n",
    "\n",
    "$$ \\Large \\hat{R} = \\sqrt{\\frac{\\hat{\\text{var}}^{+}(\\theta \\mid y)}{W}}$$\n",
    "\n",
    "While the details of the calculation can be found in the paper, calculation uses the *between chain variance* with *in chain variance* to calculate $\\hat{R}$\n",
    "\n",
    "**Note in the paper, it says Rhat \"estimates the factor by which the scale of the current distribution for $\\theta$ might be reduced. What does this mean specifically?**\n",
    "\n",
    "\n",
    "### Effective Sample Size, (Also known as ESS, also known as $S_{eff}$\n",
    "As the name suggests Effective Sample Size helps answer the question \"Did we get enough samples\". The summarized formula is  \n",
    "\n",
    "$$ \\large S_{\\text{eff}} = \\frac{NM}{\\hat{\\tau}} $$\n",
    "\n",
    "Where N is computation draws, M is the number of chains and $\\hat{\\tau}$ is a number derived from the chain autocorrelations. The idea here is that in highly autocorrelated chains, while the computer *is* drawing samples they're not effective because they're not doing much to help estimate the posterior. \n",
    "\n",
    "Let's walk through an example"
   ]
  },
  {
   "cell_type": "markdown",
   "metadata": {},
   "source": [
    "## Reliving the horror of naive Metropolis Hastings with Bad Initialization\n",
    "In Section 3.1 we performed an Inference Run with nightmareish results. Let's load the data again here and plot the visual diagnostics once again."
   ]
  },
  {
   "cell_type": "code",
   "execution_count": 2,
   "metadata": {},
   "outputs": [
    {
     "data": {
      "text/plain": [
       "array([[<matplotlib.axes._subplots.AxesSubplot object at 0x7f8da99c3c18>,\n",
       "        <matplotlib.axes._subplots.AxesSubplot object at 0x7f8da7996ba8>]],\n",
       "      dtype=object)"
      ]
     },
     "execution_count": 2,
     "metadata": {},
     "output_type": "execute_result"
    },
    {
     "data": {
      "image/png": "[encoded data removed]",
      "text/plain": [
       "<Figure size 864x144 with 2 Axes>"
      ]
     },
     "metadata": {
      "needs_background": "light"
     },
     "output_type": "display_data"
    }
   ],
   "source": [
    "data_bad_init = az.load_data(\"inference_data/data_bad_init.nc\")\n",
    "az.plot_trace(data_bad_init)"
   ]
  },
  {
   "cell_type": "markdown",
   "metadata": {},
   "source": [
    "Looking again at the trace plots we can \"see\" that the results look bad, but like true statisticians let's use our numerical tools to quantify the results."
   ]
  },
  {
   "cell_type": "code",
   "execution_count": 3,
   "metadata": {},
   "outputs": [
    {
     "data": {
      "text/plain": [
       "<xarray.Dataset>\n",
       "Dimensions:  ()\n",
       "Data variables:\n",
       "    θ        float64 6.95"
      ]
     },
     "execution_count": 3,
     "metadata": {},
     "output_type": "execute_result"
    }
   ],
   "source": [
    "az.rhat(data_bad_init)"
   ]
  },
  {
   "cell_type": "code",
   "execution_count": 4,
   "metadata": {},
   "outputs": [
    {
     "data": {
      "text/plain": [
       "<xarray.Dataset>\n",
       "Dimensions:  ()\n",
       "Data variables:\n",
       "    θ        float64 1.0"
      ]
     },
     "execution_count": 4,
     "metadata": {},
     "output_type": "execute_result"
    }
   ],
   "source": [
    "az.effective_sample_size(data_bad_init)"
   ]
  },
  {
   "cell_type": "markdown",
   "metadata": {},
   "source": [
    "According to the math $\\hat{R} = 6.95$ and $S_{\\text{eff}} = 1$, but this begs the question these good, bad, okish? Subjectively speaking these are bad. Generally speaking\n",
    "\n",
    "* We want $\\hat{R}$ to be to close to 1 as possible\n",
    "* We want ESS to be as close to the number of simulation draws as possible  \n",
    "\n",
    "$\\hat{R}$ is telling us that the variances between chains are not very consistent and $S_{\\text{eff}}$ is telling us that out of the 400 draws (200 draws over 2 chains), only 1 is useful in estimating the posterior distribution.  \n",
    "\n",
    "\n",
    "In Aki's paper the advice there is specific advice for these diagnostics\n",
    "\n",
    "* Run 4 chains\n",
    "* $\\hat{R}$ should be less than 1.01\n",
    "* ESS should be 400 \"before we expect $\\hat{R}$ to be useful\n",
    "\n",
    "In Notebook 3.4 we'll be using $\\hat{R}$ and $S_{\\text{eff}}$ to compare each inference run"
   ]
  }
 ],
 "metadata": {
  "kernelspec": {
   "display_name": "Python 3",
   "language": "python",
   "name": "python3"
  },
  "language_info": {
   "codemirror_mode": {
    "name": "ipython",
    "version": 3
   },
   "file_extension": ".py",
   "mimetype": "text/x-python",
   "name": "python",
   "nbconvert_exporter": "python",
   "pygments_lexer": "ipython3",
   "version": "3.6.8"
  }
 },
 "nbformat": 4,
 "nbformat_minor": 2
}
