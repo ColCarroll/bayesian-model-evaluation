{
 "cells": [
  {
   "cell_type": "markdown",
   "metadata": {},
   "source": [
    "# Section 2.1 Xarray, az.InferenceData, and NetCDF for Markov Chain Monte Carlo\n",
    "_How do we generate, store, and save Markov Chain Monte Carlo results_"
   ]
  },
  {
   "cell_type": "code",
   "execution_count": 1,
   "metadata": {},
   "outputs": [],
   "source": [
    "import numpy as np\n",
    "import pandas as pd\n",
    "import scipy.stats as stats\n",
    "import matplotlib.pyplot as plt\n",
    "import arviz as az\n",
    "import pystan\n",
    "import xarray as xr\n",
    "np.random.seed(0)"
   ]
  },
  {
   "cell_type": "markdown",
   "metadata": {},
   "source": [
    "## Learning Objectives\n",
    "* Understand Markov Chain Monte Carlo fundamentals\n",
    "* Recognize the meaning of sample, draws and chains in MCMC context\n",
    "* Understand relationship between Xarray, az.InferenceData, and NetCDF\n",
    "* Gain profiency with Xarray, NetCDF, and az.InferenceData objects"
   ]
  },
  {
   "cell_type": "markdown",
   "metadata": {},
   "source": [
    "## Markov Chain Monte Carlo\n",
    "**Pop quiz**: Why do we use Markov Chain Monte Carlo in Bayesian inferece?\n",
    "\n",
    "**Highlight for answer:** C<span style=\"color:white\">alculating the posterior distribution is hard</span>!"
   ]
  },
  {
   "cell_type": "markdown",
   "metadata": {},
   "source": [
    "## Markov Chain Monte Carlo algorithm (greatly simplified)\n",
    "\n",
    "Step 1: Start at a random spot  \n",
    "Step 2: Propose a random place to move   \n",
    "Step 3: Calculate the goodness of proposal  \n",
    "Step 4: If good place move to proposal, if not good place don't move  \n",
    "Step 5: Write down where you're standing  \n",
    "Step 6: Go back to step 2  \n",
    "\n",
    "** Question for reviewers**\n",
    "Are samples the accepted proposals only? Or all proposals?\n",
    "Are draws any proposal, or accepted only?\n",
    "\n",
    "When animated this algorithm looks like this\n",
    "\n",
    "In MCMC Step 2 and Step 4 is where most MCMC variants differentiate themselves. Algorithms like Hamiltonian Monte Carlo and Sequential Monte Carlo are better at picking that next step. Richard McElreath has a great visual explainer [on his blog]([http://elevanth.org/blog/2017/11/28/build-a-better-markov-chain/)\n",
    "\n",
    "Chain: A random walk\n",
    "Sample: A proposal\n",
    "\n",
    "Regardless of algorithm in MCMC we end up with the same thing, a chain of acceptances from a fixed number of draws"
   ]
  },
  {
   "cell_type": "markdown",
   "metadata": {},
   "source": [
    "## Markov Chain Monte Carlo with Metropolis Hastings sampler\n",
    "Below is a working Metropolis Hasting sampler, taken from [Thomas Wiecki's blog](https://twiecki.io/blog/2015/11/10/mcmc-sampling/). For the purposes of this tutorial focus more on the return value, rather than the algorithm details.\n",
    "\n",
    "It is important to note that this for simplicity's sake we have also hard coded the likelihood and prior in the sampler below. In mathematical notation our model looks like this. We are adding 20 to the estimation of mu to make it easier to recognize the distribution of **parameters** from the distribution of **observed data**\n",
    "\n",
    "$$\n",
    "mu \\text{~} N(mu\\_init, 1) \\\\\n",
    "y \\text{~} N(mu+20, 1)\n",
    "$$"
   ]
  },
  {
   "cell_type": "code",
   "execution_count": 2,
   "metadata": {},
   "outputs": [],
   "source": [
    "def mh_sampler(data, samples=4, mu_init=.5, proposal_width=.5, mu_prior_mu=0, mu_prior_sd=1., offset=20):\n",
    "    mu_current = mu_init\n",
    "    posterior = [mu_current]\n",
    "    for i in range(samples):\n",
    "        # suggest new position\n",
    "        mu_proposal = stats.norm(mu_current, proposal_width).rvs()\n",
    "\n",
    "        # Compute likelihood by multiplying probabilities of each data point\n",
    "        likelihood_current = stats.norm(mu_current+offset, 1).logpdf(data).sum()\n",
    "        likelihood_proposal = stats.norm(mu_proposal+offset, 1).logpdf(data).sum()\n",
    "        \n",
    "        # Compute prior probability of current and proposed mu        \n",
    "        prior_current = stats.norm(mu_prior_mu, mu_prior_sd).logpdf(mu_current)\n",
    "        prior_proposal = stats.norm(mu_prior_mu, mu_prior_sd).logpdf(mu_proposal)\n",
    "        \n",
    "        p_current = likelihood_current + prior_current\n",
    "        p_proposal = likelihood_proposal + prior_proposal\n",
    "        \n",
    "        # Accept proposal?\n",
    "        p_accept = np.exp(p_proposal - p_current)\n",
    "\n",
    "        # Usually would include prior probability, which we neglect here for simplicity\n",
    "        accept = np.random.rand() < p_accept\n",
    "        \n",
    "        if accept:\n",
    "            # Update position\n",
    "            mu_current = mu_proposal\n",
    "        \n",
    "        posterior.append(mu_current)\n",
    "        \n",
    "    return np.array(posterior)"
   ]
  },
  {
   "cell_type": "markdown",
   "metadata": {},
   "source": [
    "## Setup\n",
    "Before using the sampler let's generate some data to test our Metropolis Hasting Implementation. In the code block below we are generating a bimodal distribution for the sampler. "
   ]
  },
  {
   "cell_type": "code",
   "execution_count": 3,
   "metadata": {},
   "outputs": [],
   "source": [
    "data = stats.norm.rvs(loc=30, scale=1, size=1000).flatten()"
   ]
  },
  {
   "cell_type": "markdown",
   "metadata": {},
   "source": [
    "We'll also plot our samples to get a sense of what the distribution of data looks like. Note how the histogram centers around 30. This should intuitively make sense as we're specified a mean of 30 when generating random values."
   ]
  },
  {
   "cell_type": "code",
   "execution_count": 4,
   "metadata": {},
   "outputs": [
    {
     "data": {
      "image/png": "[encoded data removed]",
      "text/plain": [
       "<Figure size 432x288 with 1 Axes>"
      ]
     },
     "metadata": {
      "needs_background": "light"
     },
     "output_type": "display_data"
    }
   ],
   "source": [
    "fig, ax = plt.subplots()\n",
    "ax.hist(data)\n",
    "fig.suptitle(\"Histogram of observed data\");"
   ]
  },
  {
   "cell_type": "markdown",
   "metadata": {},
   "source": [
    "As humans we can intuit *data mean* of **30** + an offset of **20** will lead to a parameter mean for *mu* of **10**. We want to see if our inference algorithm can recover our parameters."
   ]
  },
  {
   "cell_type": "markdown",
   "metadata": {},
   "source": [
    "## Single Variable Single Chain Inference Run"
   ]
  },
  {
   "cell_type": "markdown",
   "metadata": {},
   "source": [
    "The simplest MCMC run we can perform is with a single variable and a single chain. We'll do so by putting our sampler function and data to use."
   ]
  },
  {
   "cell_type": "code",
   "execution_count": 5,
   "metadata": {},
   "outputs": [
    {
     "data": {
      "text/plain": [
       "array([ 0.5       ,  0.77798134,  1.22421828,  1.22421828,  1.2765753 ,\n",
       "        1.39060196,  1.49134193,  1.76172873,  1.76172873,  1.76172873,\n",
       "        2.59872158,  2.59872158,  2.59872158,  2.70620438,  2.75481399,\n",
       "        2.75481399,  2.75481399,  2.75481399,  2.75481399,  2.75481399,\n",
       "        2.8236589 ,  3.20065464,  3.73331238,  3.93462515,  3.93462515,\n",
       "        4.23870336,  4.79618452,  5.0139576 ,  5.0139576 ,  5.0139576 ,\n",
       "        5.0139576 ,  5.0139576 ,  5.5385042 ,  5.5385042 ,  6.17099586,\n",
       "        6.2759206 ,  6.2759206 ,  6.32510956,  6.51581768,  6.65797494,\n",
       "        6.86567526,  6.86567526,  6.86567526,  6.90944099,  7.37881443,\n",
       "        7.37881443,  7.54296508,  7.54296508,  7.54296508,  7.54296508,\n",
       "        7.54296508,  7.88169616,  7.90760636,  7.90760636,  7.90760636,\n",
       "        8.27343582,  8.27343582,  8.27343582,  8.27343582,  8.27343582,\n",
       "        8.27343582,  8.90714165,  9.15689076,  9.50894627,  9.50894627,\n",
       "        9.50894627,  9.69790133,  9.69790133,  9.69790133,  9.69790133,\n",
       "        9.69790133, 10.15979961, 10.0935156 , 10.0935156 , 10.0935156 ,\n",
       "       10.02939461,  9.89350883, 10.00209864, 10.00209864, 10.00209864,\n",
       "       10.00209864, 10.00209864,  9.86791228,  9.86791228,  9.86791228,\n",
       "        9.86791228,  9.86791228,  9.97125753,  9.97125753,  9.99884321,\n",
       "        9.99884321,  9.99884321,  9.99884321,  9.99884321,  9.99884321,\n",
       "        9.99884321,  9.99884321,  9.99884321,  9.99884321,  9.99884321])"
      ]
     },
     "execution_count": 5,
     "metadata": {},
     "output_type": "execute_result"
    }
   ],
   "source": [
    "samples = 200\n",
    "chain = mh_sampler(data=data, samples=samples)\n",
    "chain[:100]"
   ]
  },
  {
   "cell_type": "markdown",
   "metadata": {},
   "source": [
    "And just like that we've performed an inference run! We can generate a traceplot"
   ]
  },
  {
   "cell_type": "code",
   "execution_count": 6,
   "metadata": {},
   "outputs": [
    {
     "data": {
      "text/plain": [
       "[<matplotlib.lines.Line2D at 0x1c27876198>]"
      ]
     },
     "execution_count": 6,
     "metadata": {},
     "output_type": "execute_result"
    },
    {
     "data": {
      "image/png": "[encoded data removed]",
      "text/plain": [
       "<Figure size 432x288 with 1 Axes>"
      ]
     },
     "metadata": {
      "needs_background": "light"
     },
     "output_type": "display_data"
    }
   ],
   "source": [
    "fig, ax = plt.subplots()\n",
    "x= np.arange(samples+1)\n",
    "ax.plot(x, chain)"
   ]
  },
  {
   "cell_type": "markdown",
   "metadata": {},
   "source": [
    "In terms of data structures, for a **single** variable **single** chain inference run, an array suffices for storing samples."
   ]
  },
  {
   "cell_type": "markdown",
   "metadata": {},
   "source": [
    "## Single Variable Multiple Chain Inference Run"
   ]
  },
  {
   "cell_type": "markdown",
   "metadata": {},
   "source": [
    "As Bayesian modelers, life would be relatively easy if a single chain worked well every time, but unfortunately this is not the case. To understand why look at the above inference run. While the sampler started at *mu=8*, it took a 50 or so steps before the sampler honed in on the \"correct\" value of 10.\n",
    "\n",
    "MCMC algorithms are sensitive to their starting points and in finite runs it's **not** guaranteed that the Markov Chain will approach the true underlying value. A common method to get around this is to sample from many chains in parallel and see if we get to the same place. We will discuss this further when we get to single model diagnostics."
   ]
  },
  {
   "cell_type": "code",
   "execution_count": 7,
   "metadata": {},
   "outputs": [],
   "source": [
    "chain_0 = mh_sampler(data=data, samples=samples)\n",
    "chain_1 = mh_sampler(data=data, samples=samples, mu_init=13)\n",
    "data_df = pd.DataFrame({\"x_0\":chain_0, \"x_1\":chain_1})"
   ]
  },
  {
   "cell_type": "code",
   "execution_count": 8,
   "metadata": {},
   "outputs": [
    {
     "data": {
      "text/plain": [
       "[<matplotlib.lines.Line2D at 0x1c27801828>]"
      ]
     },
     "execution_count": 8,
     "metadata": {},
     "output_type": "execute_result"
    },
    {
     "data": {
      "image/png": "[encoded data removed]",
      "text/plain": [
       "<Figure size 432x288 with 1 Axes>"
      ]
     },
     "metadata": {
      "needs_background": "light"
     },
     "output_type": "display_data"
    }
   ],
   "source": [
    "fig, ax = plt.subplots()\n",
    "x= np.arange(samples+1)\n",
    "ax.plot(x, data_df[\"x_0\"], c=\"g\")\n",
    "ax.plot(x, data_df[\"x_1\"])"
   ]
  },
  {
   "cell_type": "markdown",
   "metadata": {},
   "source": [
    "With two chains converging to approximately a single value we can be more confident that the sampler reached the true underlying parameter. We can also store the results in a 2D data structures, such as Pandas Dataframes in python memory, and csvs or sql tables for persistent on disk storage."
   ]
  },
  {
   "cell_type": "markdown",
   "metadata": {},
   "source": [
    "## Multiple Variable Multiple Chain Inference Runs"
   ]
  },
  {
   "cell_type": "markdown",
   "metadata": {},
   "source": [
    "A Bayesian modelers, life would be relatively easy if all models only had one variable (univariate models in math speak). Unfortunately many types of models require 2 or more variables. For example in a linear regression we are interested in estimating both **m** and **b**\n",
    "\n",
    "$$ y \\text{~} mx+b$$\n",
    "\n",
    "With at least 3 things to track (chains, samples, and variables) a 2d data structures become limiting. This problem exists in many domains and is the focus of the *xarray* project.\n",
    "\n",
    "A motivating example comes from climate sciences. In this image from the xarray documentation the researcher might want to measure the temperature and humidity, across a 2D region at a point in time. Or they may want to plot the temperature over a time interval. xarray simplifies the data handling in cases like these.\n",
    "\n",
    "![XarrayStructure](../../img/dataset-diagram.png)\n",
    "\n",
    "\n"
   ]
  },
  {
   "cell_type": "markdown",
   "metadata": {},
   "source": [
    "### Xarray\n",
    "In ArviZ an xarray DataSet object would look like the one below, where the variables are the Inference run variables, and the coordinates are at a minimum chains, draws."
   ]
  },
  {
   "cell_type": "code",
   "execution_count": 9,
   "metadata": {},
   "outputs": [
    {
     "data": {
      "text/plain": [
       "<xarray.Dataset>\n",
       "Dimensions:  (chain: 2, draw: 3)\n",
       "Coordinates:\n",
       "  * draw     (draw) int64 1 2 3\n",
       "  * chain    (chain) int64 0 1\n",
       "Data variables:\n",
       "    mu       (chain, draw) int64 11 12 13 22 23 24\n",
       "    sd       (chain, draw) int64 33 34 35 44 45 46"
      ]
     },
     "execution_count": 9,
     "metadata": {},
     "output_type": "execute_result"
    }
   ],
   "source": [
    "posterior = xr.Dataset(\n",
    "        {\"mu\": ([\"chain\", \"draw\"], [[11,12,13],[22,23,24]]), \"sd\": ([\"chain\", \"draw\"], [[33,34,35],[44,45,46]])},\n",
    "        coords={\"draw\": [1,2,3], \"chain\": [0,1]},\n",
    "    )\n",
    "posterior"
   ]
  },
  {
   "cell_type": "markdown",
   "metadata": {},
   "source": [
    "## Multiple Variable Multiple Chain Inference runs and associated datasets\n",
    "As a Bayesian modelers, life would be relatively easy if we were only concerned about posterior distributions. Looking back at the full end to end workflow, recall that there are other datasets, such as prior predictive samples, posterior predictive samples, among others. To aid the ArviZ user we present az.InferenceData\n",
    "\n",
    "### az.InferenceData\n",
    "az.Inference data services as a data container for the various xarray datasets that are generated from an end to end bayesian workflow. Consider our earlier simple model.\n",
    "\n",
    "This time let's use Stan to run a full analysis with multiple chains, multiple runs, and generate all sorts of datasets common in Bayesian Analysis."
   ]
  },
  {
   "cell_type": "markdown",
   "metadata": {},
   "source": [
    "### Calculating prior"
   ]
  },
  {
   "cell_type": "code",
   "execution_count": 10,
   "metadata": {},
   "outputs": [
    {
     "name": "stderr",
     "output_type": "stream",
     "text": [
      "INFO:pystan:COMPILING THE C++ CODE FOR MODEL anon_model_9e2c867eeb58fa5e5ed2bc37cd00496e NOW.\n"
     ]
    }
   ],
   "source": [
    "stan_code_prior = \"\"\"\n",
    "data {\n",
    "    int<lower=1> N;\n",
    "}\n",
    "parameters {\n",
    "    real mu; // Estimated parameter\n",
    "}\n",
    "\n",
    "model {\n",
    "    mu ~ normal(0, 1);\n",
    "}\n",
    "generated quantities {\n",
    "    real y_hat[N]; // prior prediction\n",
    "    for (n in 1:N) {\n",
    "        y_hat[n] = normal_rng(mu+20, 1);\n",
    "    }\n",
    "}\n",
    "\"\"\"\n",
    "stan_prior = pystan.StanModel(model_code=stan_code_prior)"
   ]
  },
  {
   "cell_type": "code",
   "execution_count": 11,
   "metadata": {},
   "outputs": [
    {
     "name": "stderr",
     "output_type": "stream",
     "text": [
      "WARNING:pystan:Maximum (flat) parameter count (1000) exceeded: skipping diagnostic tests for n_eff and Rhat.\n",
      "To run all diagnostics call pystan.check_hmc_diagnostics(fit)\n"
     ]
    }
   ],
   "source": [
    "stan_data_prior = {\"N\" : len(data)}\n",
    "stan_fit_prior = stan_prior.sampling(data=stan_data_prior)"
   ]
  },
  {
   "cell_type": "code",
   "execution_count": 12,
   "metadata": {},
   "outputs": [
    {
     "name": "stderr",
     "output_type": "stream",
     "text": [
      "INFO:pystan:COMPILING THE C++ CODE FOR MODEL anon_model_804203b3f322a673e7cacf6457ff2d3c NOW.\n"
     ]
    }
   ],
   "source": [
    "stan_code_posterior = \"\"\"\n",
    "data {\n",
    "    int N;\n",
    "    real y[N]; // Observed data\n",
    "}\n",
    "parameters {\n",
    "    real mu; // Estimated parameter\n",
    "}\n",
    "model {\n",
    "    mu ~ normal(0, 1);\n",
    "    y  ~ normal(mu+20, 1);\n",
    "}\n",
    "generated quantities {\n",
    "    real y_hat[N]; // posterior prediction\n",
    "    real log_lik[N]; // log_likelihood\n",
    "    \n",
    "    for (n in 1:N) {\n",
    "        // Stan normal functions https://mc-stan.org/docs/2_19/functions-reference/normal-distribution.html\n",
    "        y_hat[n] = normal_rng(mu, 1);\n",
    "        log_lik[n] = normal_lpdf(y[n] | mu, 1);\n",
    "    }\n",
    "}\n",
    "\"\"\"\n",
    "stan_model_posterior = pystan.StanModel(model_code=stan_code_posterior)"
   ]
  },
  {
   "cell_type": "code",
   "execution_count": 13,
   "metadata": {},
   "outputs": [
    {
     "name": "stderr",
     "output_type": "stream",
     "text": [
      "WARNING:pystan:Maximum (flat) parameter count (1000) exceeded: skipping diagnostic tests for n_eff and Rhat.\n",
      "To run all diagnostics call pystan.check_hmc_diagnostics(fit)\n"
     ]
    }
   ],
   "source": [
    "stan_data_posterior = dict(\n",
    "    y=data,\n",
    "    N=len(data)\n",
    ")\n",
    "stan_fit_posterior = stan_model_posterior.sampling(data=stan_data_posterior)"
   ]
  },
  {
   "cell_type": "code",
   "execution_count": 14,
   "metadata": {},
   "outputs": [],
   "source": [
    "stan_inference_data = az.from_pystan(posterior=stan_fit_posterior,\n",
    "                       observed_data=\"y\",\n",
    "                       \n",
    "                       # Other Bayesian Datasets that we have not discussed yet!\n",
    "                       posterior_predictive=\"y_hat\", \n",
    "                       prior=stan_fit_prior, \n",
    "                       prior_predictive=\"y_hat\",\n",
    "                       log_likelihood=\"log_lik\",\n",
    "                      )"
   ]
  },
  {
   "cell_type": "markdown",
   "metadata": {},
   "source": [
    "### NetCDF\n",
    "Calculating the various datasets may not be is usually not trivial. Network Common Data Form (NetCDF) is an open standard for storing multidimensional datasets like xarray. It even comes with groups support making it easy to serialize az.InferenceData straight to disk. ArviZ utilizes NetCDF to allow \"save\" the results, share with others.\n",
    " \n",
    "ArviZ even ships with sample datasets, serialized in NetCDF\n",
    "https://github.com/arviz-devs/arviz/tree/master/arviz/data/_datasets\n",
    "\n",
    "\n",
    "In short like SQL is to pandas, NetCDF is to az.Inference data."
   ]
  },
  {
   "cell_type": "code",
   "execution_count": 15,
   "metadata": {},
   "outputs": [
    {
     "data": {
      "text/plain": [
       "Inference data with groups:\n",
       "\t> posterior\n",
       "\t> sample_stats\n",
       "\t> posterior_predictive\n",
       "\t> prior\n",
       "\t> observed_data"
      ]
     },
     "execution_count": 15,
     "metadata": {},
     "output_type": "execute_result"
    }
   ],
   "source": [
    "data = az.load_arviz_data(\"centered_eight\")\n",
    "data"
   ]
  },
  {
   "cell_type": "markdown",
   "metadata": {},
   "source": [
    "## The benefits of az.InferenceData\n",
    "One of the goals for the ArviZ developers is to ensure that Bayesian practioners can share and reproduce analyses regardless of PPl, regardless of language and az.InferenceData was the implementation of this idea.\n",
    "\n",
    "In summary az.InferenceData \n",
    "* provides a consistent format for Bayesian Datasets.\n",
    "* makes it easy to save results\n",
    "* makes use of ArviZ plotting and statistics functions simpler\n",
    "* stores metadata for ease of reproducibility"
   ]
  },
  {
   "cell_type": "markdown",
   "metadata": {},
   "source": [
    "## InferenceData in practice\n",
    "In practice it's rare to ever generate a xarray manually for use in ArviZ. Instead ArviZ provides methods for instatiating InferenceData from plain python objects, mappings to various PPLs, as well as methods to save and load NetCDF files.\n",
    "\n",
    "For further references consider the ArviZ cookbook, and data structure tutorial.\n",
    "https://arviz-devs.github.io/arviz/notebooks/InferenceDataCookbook.html\n",
    "https://arviz-devs.github.io/arviz/notebooks/XarrayforArviZ.html\n",
    "\n",
    "## Examples\n",
    "See below for some useful methods of interacting with az.InferenceData, Xarray, and NetCDF\n",
    "\n",
    "For Xarray methods we only demo a subset of the available api. For a much more comprehensive explanation view the indexing and selection page from the xarray docs\n",
    "http://xarray.pydata.org/en/stable/indexing.html"
   ]
  },
  {
   "cell_type": "markdown",
   "metadata": {},
   "source": [
    "### Creating InferenceData objects\n",
    "We can create an InferenceData objects from our \"home built\" chain, not just from the output of supported PPLs"
   ]
  },
  {
   "cell_type": "code",
   "execution_count": 16,
   "metadata": {},
   "outputs": [
    {
     "data": {
      "text/plain": [
       "Inference data with groups:\n",
       "\t> posterior"
      ]
     },
     "execution_count": 16,
     "metadata": {},
     "output_type": "execute_result"
    }
   ],
   "source": [
    "data_dict = {\"mu\": [chain_0, chain_1]}\n",
    "home_built_data = az.from_dict(data_dict)\n",
    "home_built_data"
   ]
  },
  {
   "cell_type": "code",
   "execution_count": 17,
   "metadata": {},
   "outputs": [],
   "source": [
    "# Load NetCDF from disk into memory\n",
    "## Replace with NetCDF that's \"visible\"\n",
    "data = az.load_arviz_data(\"centered_eight\")"
   ]
  },
  {
   "cell_type": "code",
   "execution_count": 18,
   "metadata": {},
   "outputs": [
    {
     "data": {
      "text/plain": [
       "<xarray.Dataset>\n",
       "Dimensions:  (chain: 4, draw: 500, school: 8)\n",
       "Coordinates:\n",
       "  * chain    (chain) int64 0 1 2 3\n",
       "  * draw     (draw) int64 0 1 2 3 4 5 6 7 8 ... 492 493 494 495 496 497 498 499\n",
       "  * school   (school) object 'Choate' 'Deerfield' ... \"St. Paul's\" 'Mt. Hermon'\n",
       "Data variables:\n",
       "    mu       (chain, draw) float64 ...\n",
       "    theta    (chain, draw, school) float64 ...\n",
       "    tau      (chain, draw) float64 ...\n",
       "Attributes:\n",
       "    created_at:                 2018-10-03T14:26:54.822913\n",
       "    inference_library:          pymc3\n",
       "    inference_library_version:  3.5"
      ]
     },
     "execution_count": 18,
     "metadata": {},
     "output_type": "execute_result"
    }
   ],
   "source": [
    "# Reference posterior directly\n",
    "posterior = data.posterior\n",
    "posterior"
   ]
  },
  {
   "cell_type": "code",
   "execution_count": 19,
   "metadata": {},
   "outputs": [
    {
     "data": {
      "text/plain": [
       "<xarray.Dataset>\n",
       "Dimensions:  (chain: 4, draw: 500)\n",
       "Coordinates:\n",
       "  * chain    (chain) int64 0 1 2 3\n",
       "  * draw     (draw) int64 0 1 2 3 4 5 6 7 8 ... 492 493 494 495 496 497 498 499\n",
       "Data variables:\n",
       "    mu       (chain, draw) float64 ...\n",
       "    tau      (chain, draw) float64 ...\n",
       "Attributes:\n",
       "    created_at:                 2018-10-03T14:26:54.822913\n",
       "    inference_library:          pymc3\n",
       "    inference_library_version:  3.5"
      ]
     },
     "execution_count": 19,
     "metadata": {},
     "output_type": "execute_result"
    }
   ],
   "source": [
    "# Select specific variables\n",
    "posterior[[\"mu\", \"tau\"]]"
   ]
  },
  {
   "cell_type": "code",
   "execution_count": 20,
   "metadata": {},
   "outputs": [
    {
     "data": {
      "text/plain": [
       "<xarray.Dataset>\n",
       "Dimensions:  (chain: 2, draw: 6, school: 8)\n",
       "Coordinates:\n",
       "  * chain    (chain) int64 0 2\n",
       "  * draw     (draw) int64 0 1 2 3 4 5\n",
       "  * school   (school) object 'Choate' 'Deerfield' ... \"St. Paul's\" 'Mt. Hermon'\n",
       "Data variables:\n",
       "    mu       (chain, draw) float64 ...\n",
       "    theta    (chain, draw, school) float64 ...\n",
       "    tau      (chain, draw) float64 ...\n",
       "Attributes:\n",
       "    created_at:                 2018-10-03T14:26:54.822913\n",
       "    inference_library:          pymc3\n",
       "    inference_library_version:  3.5"
      ]
     },
     "execution_count": 20,
     "metadata": {},
     "output_type": "execute_result"
    }
   ],
   "source": [
    "# Select specific chains and draws\n",
    "posterior.sel(chain=[0,2], draw=slice(0,5))"
   ]
  },
  {
   "cell_type": "code",
   "execution_count": 21,
   "metadata": {},
   "outputs": [
    {
     "data": {
      "text/plain": [
       "array([ 5.12405692,  5.00228516,  4.31923729,  5.96001625,  1.26754626,\n",
       "        7.96140002,  8.59824918,  4.79273969,  1.77511138, -0.28240422,\n",
       "       -0.7803849 ])"
      ]
     },
     "execution_count": 21,
     "metadata": {},
     "output_type": "execute_result"
    }
   ],
   "source": [
    "# Get first 10 samples of mu from chain 0\n",
    "posterior[\"mu\"].sel(chain=0, draw=slice(0,10)).values"
   ]
  },
  {
   "cell_type": "markdown",
   "metadata": {},
   "source": [
    "## Extra Credit\n",
    "* xarray supports numpy ufuncs https://docs.scipy.org/doc/numpy/reference/ufuncs.html. ArviZ uses these under the hood for efficient calculations. "
   ]
  }
 ],
 "metadata": {
  "kernelspec": {
   "display_name": "Python 3",
   "language": "python",
   "name": "python3"
  },
  "language_info": {
   "codemirror_mode": {
    "name": "ipython",
    "version": 3
   },
   "file_extension": ".py",
   "mimetype": "text/x-python",
   "name": "python",
   "nbconvert_exporter": "python",
   "pygments_lexer": "ipython3",
   "version": "3.6.8"
  }
 },
 "nbformat": 4,
 "nbformat_minor": 2
}
