{
 "cells": [
  {
   "cell_type": "markdown",
   "metadata": {},
   "source": [
    "# Section 2.1 Xarray, az.InferenceData, and NetCDF for Markov Chain Monte Carlo\n",
    "_How do we generate, store, and save Markov Chain Monte Carlo results_"
   ]
  },
  {
   "cell_type": "code",
   "execution_count": 38,
   "metadata": {},
   "outputs": [],
   "source": [
    "import numpy as np\n",
    "import pandas as pd\n",
    "import scipy.stats as stats\n",
    "import matplotlib.pyplot as plt\n",
    "import arviz as az\n",
    "import pystan\n",
    "import xarray as xr"
   ]
  },
  {
   "cell_type": "markdown",
   "metadata": {},
   "source": [
    "## Learning Objectives\n",
    "* Understand Markov Chain Monte Carlo basics\n",
    "* Recognize the meaning of sample, draws and chains in MCMC context\n",
    "* Understand relationship between Xarray, az.InferenceData, and NetCDF\n",
    "* Gain profiency with Xarray, NetCDF, and az.InferenceData objects"
   ]
  },
  {
   "cell_type": "markdown",
   "metadata": {},
   "source": [
    "## Markov Chain Monte Carlo\n",
    "**Pop quiz**: Why do we use Markov Chain Monte Carlo in Bayesian inferece?\n",
    "\n",
    "**Highlight for answer:** C<span style=\"color:white\">alculating the posterior distribution is hard</span>!"
   ]
  },
  {
   "cell_type": "markdown",
   "metadata": {},
   "source": [
    "## Markov Chain Monte Carlo algorithm (greatly simplified)\n",
    "\n",
    "Step 1: Start at a random spot  \n",
    "Step 2: Propose a random place to move   \n",
    "Step 3: Calculate the goodness of proposal  \n",
    "Step 4: If good place move to proposal, if not good place don't move  \n",
    "Step 5: Write down where you're standing  \n",
    "Step 6: Go back to step 2  \n",
    "\n",
    "** Question for reviewers**\n",
    "Are samples the accepted proposals only? Or all proposals?\n",
    "Are draws any proposal, or accepted only?\n",
    "\n",
    "When animated this algorithm looks like this\n",
    "\n",
    "In MCMC Step 2 and Step 4 is where most MCMC variants differentiate themselevs. Algorithms like Hamiltonian Monte Carlo and Sequential Monte Carlo are better at picking that next step. Richard McElreath has a great visual explainer [on his blog]([http://elevanth.org/blog/2017/11/28/build-a-better-markov-chain/)\n",
    "\n",
    "Chain: A random walk\n",
    "Sample: A proposal\n",
    "\n",
    "Regardless of algorithm in MCMC we end up with the same thing, a chain of acceptances from a fixed number of draws"
   ]
  },
  {
   "cell_type": "markdown",
   "metadata": {},
   "source": [
    "## Markov Chain Monte Carlo with Metropolis Hastings sampler\n",
    "Below is a working Metropolis Hasting sampler, taken from [Thomas Wiecki's blog](https://twiecki.io/blog/2015/11/10/mcmc-sampling/). For tbe purposes of this tutorial focus more on the return value, rather than the algorithm details.\n",
    "\n",
    "It is important to note that this for simplicity's sake we have also hard coded the likelihood and prior in the sampler below. In mathematical notation our model looks like this. We are adding 20 to the estimation of mu to make it easier to recognize the distribution of **parameters** from the distribution of **observed data**\n",
    "\n",
    "$$\n",
    "mu \\text{~} N(mu\\_init, 1) \\\\\n",
    "y \\text{~} N(mu+20, 1)\n",
    "$$"
   ]
  },
  {
   "cell_type": "code",
   "execution_count": 30,
   "metadata": {},
   "outputs": [],
   "source": [
    "def mh_sampler(data, samples=4, mu_init=.5, proposal_width=.5, mu_prior_mu=0, mu_prior_sd=1., offset=20):\n",
    "    mu_current = mu_init\n",
    "    posterior = [mu_current]\n",
    "    for i in range(samples):\n",
    "        # suggest new position\n",
    "        mu_proposal = stats.norm(mu_current, proposal_width).rvs()\n",
    "\n",
    "        # Compute likelihood by multiplying probabilities of each data point\n",
    "        likelihood_current = stats.norm(mu_current+offset, 1).logpdf(data).sum()\n",
    "        likelihood_proposal = stats.norm(mu_proposal+offset, 1).logpdf(data).sum()\n",
    "        \n",
    "        # Compute prior probability of current and proposed mu        \n",
    "        prior_current = stats.norm(mu_prior_mu, mu_prior_sd).logpdf(mu_current)\n",
    "        prior_proposal = stats.norm(mu_prior_mu, mu_prior_sd).logpdf(mu_proposal)\n",
    "        \n",
    "        p_current = likelihood_current + prior_current\n",
    "        p_proposal = likelihood_proposal + prior_proposal\n",
    "        \n",
    "        # Accept proposal?\n",
    "        p_accept = np.exp(p_proposal - p_current)\n",
    "\n",
    "        # Usually would include prior probability, which we neglect here for simplicity\n",
    "        accept = np.random.rand() < p_accept\n",
    "        \n",
    "        if accept:\n",
    "            # Update position\n",
    "            mu_current = mu_proposal\n",
    "        \n",
    "        posterior.append(mu_current)\n",
    "        \n",
    "    return np.array(posterior)"
   ]
  },
  {
   "cell_type": "markdown",
   "metadata": {},
   "source": [
    "## Setup\n",
    "Before using the sampler let's generate some data to test our Metropolis Hasting Implementation. In the code block below we are generating a bimodal distribution for the sampler. "
   ]
  },
  {
   "cell_type": "code",
   "execution_count": 31,
   "metadata": {},
   "outputs": [],
   "source": [
    "data = stats.norm.rvs(loc=30, scale=1, size=1000).flatten()"
   ]
  },
  {
   "cell_type": "markdown",
   "metadata": {},
   "source": [
    "We'll also plot our samples to get a sense of what the distribution of data looks like. Note how the histogram centers around 30. This should intuitively make sense as we're specified a mean of 30 when generating random values."
   ]
  },
  {
   "cell_type": "code",
   "execution_count": 32,
   "metadata": {},
   "outputs": [
    {
     "data": {
      "image/png": "[encoded data removed]",
      "text/plain": [
       "<Figure size 432x288 with 1 Axes>"
      ]
     },
     "metadata": {
      "needs_background": "light"
     },
     "output_type": "display_data"
    }
   ],
   "source": [
    "fig, ax = plt.subplots()\n",
    "ax.hist(data)\n",
    "fig.suptitle(\"Histogram of observed data\");"
   ]
  },
  {
   "cell_type": "markdown",
   "metadata": {},
   "source": [
    "As humans we can intuit *data mean* of **30** + an offset of **20** will lead to a parameter mean for *mu* of **10**. We want to see if our inference algorithm can recover our parameters."
   ]
  },
  {
   "cell_type": "markdown",
   "metadata": {},
   "source": [
    "## Single Variable Single Chain Inference Run"
   ]
  },
  {
   "cell_type": "markdown",
   "metadata": {},
   "source": [
    "The simplest MCMC run we can perform is with a single variable and a single chain. We'll do so by putting our sampler function and data to use."
   ]
  },
  {
   "cell_type": "code",
   "execution_count": 33,
   "metadata": {},
   "outputs": [
    {
     "name": "stderr",
     "output_type": "stream",
     "text": [
      "/Users/canyon/.miniconda3/envs/bayestutorial/lib/python3.7/site-packages/ipykernel_launcher.py:20: RuntimeWarning: overflow encountered in exp\n"
     ]
    },
    {
     "data": {
      "text/plain": [
       "array([ 0.5       ,  0.5       ,  0.5       ,  0.5       ,  1.15486041,\n",
       "        1.15486041,  1.70272286,  1.71253248,  1.82924102,  1.82924102,\n",
       "        2.07181598,  2.12923394,  2.32579516,  2.9147129 ,  3.13437866,\n",
       "        3.13437866,  3.13437866,  3.13437866,  3.53557515,  3.53557515,\n",
       "        3.53557515,  3.6975318 ,  4.03807453,  4.03807453,  4.42682628,\n",
       "        4.42682628,  4.42682628,  5.17652564,  5.17652564,  5.21609741,\n",
       "        6.24189296,  6.54298907,  6.92910239,  7.7894751 ,  7.7894751 ,\n",
       "        7.7894751 ,  7.7894751 ,  7.7894751 ,  7.7894751 ,  8.53199414,\n",
       "        8.58154725,  8.58154725,  8.85656772,  9.30940619,  9.34609734,\n",
       "        9.34609734,  9.94520743,  9.94520743,  9.94520743,  9.97190297,\n",
       "        9.97190297,  9.97190297,  9.97190297,  9.97190297, 10.03098526,\n",
       "       10.03098526, 10.03098526, 10.03098526, 10.03098526, 10.03299649,\n",
       "       10.04492371, 10.04492371, 10.04492371, 10.04492371, 10.03321363,\n",
       "       10.03321363, 10.03321363, 10.03321363, 10.03321363, 10.03321363,\n",
       "       10.03321363, 10.03321363, 10.03321363, 10.03540012, 10.03540012,\n",
       "       10.03540012, 10.03540012, 10.03540012, 10.03540012, 10.05934341,\n",
       "       10.05934341, 10.05934341, 10.05934341, 10.05934341, 10.05934341,\n",
       "       10.05934341, 10.05934341, 10.05934341, 10.05934341, 10.05934341,\n",
       "       10.05934341, 10.05934341, 10.05934341, 10.05934341, 10.05934341,\n",
       "        9.98861191, 10.04821758, 10.04821758, 10.04821758, 10.04821758])"
      ]
     },
     "execution_count": 33,
     "metadata": {},
     "output_type": "execute_result"
    }
   ],
   "source": [
    "samples = 200\n",
    "chain = mh_sampler(data=data, samples=samples)\n",
    "chain[:100]"
   ]
  },
  {
   "cell_type": "markdown",
   "metadata": {},
   "source": [
    "And just like that we've performed an inference run! We can generate a traceplot"
   ]
  },
  {
   "cell_type": "code",
   "execution_count": 34,
   "metadata": {},
   "outputs": [
    {
     "data": {
      "text/plain": [
       "[<matplotlib.lines.Line2D at 0x12716bb00>]"
      ]
     },
     "execution_count": 34,
     "metadata": {},
     "output_type": "execute_result"
    },
    {
     "data": {
      "image/png": "[encoded data removed]",
      "text/plain": [
       "<Figure size 432x288 with 1 Axes>"
      ]
     },
     "metadata": {
      "needs_background": "light"
     },
     "output_type": "display_data"
    }
   ],
   "source": [
    "fig, ax = plt.subplots()\n",
    "x= np.arange(samples+1)\n",
    "ax.plot(x, chain)"
   ]
  },
  {
   "cell_type": "markdown",
   "metadata": {},
   "source": [
    "In terms of data structures, for a **single** variable **single** chain inference run, an array suffices for storing samples."
   ]
  },
  {
   "cell_type": "markdown",
   "metadata": {},
   "source": [
    "## Single Variable Multiple Chain Inference Run"
   ]
  },
  {
   "cell_type": "markdown",
   "metadata": {},
   "source": [
    "A Bayesian modelers, life would be relatively easy if a single chain worked well every time, but unfortunately this is not the case. To understand why look at the above inference run. While the sampler started at *mu=8*, it took a 50 or so steps before the sampler honed in on the \"correct\" value of 10.\n",
    "\n",
    "MCMC algorithms are sensitive to their starting points and in finite runs it's **not** guaranteed that the Markov Chain will approach the true underlying value. A common method to get around this is to sample from many chains in parallel and see if we get to the same place. This point will be discussed further when we get to "
   ]
  },
  {
   "cell_type": "code",
   "execution_count": 35,
   "metadata": {},
   "outputs": [
    {
     "name": "stderr",
     "output_type": "stream",
     "text": [
      "/Users/canyon/.miniconda3/envs/bayestutorial/lib/python3.7/site-packages/ipykernel_launcher.py:20: RuntimeWarning: overflow encountered in exp\n"
     ]
    }
   ],
   "source": [
    "chain_0 = mh_sampler(data=data, samples=samples)\n",
    "chain_1 = mh_sampler(data=data, samples=samples, mu_init=13)\n",
    "data_df = pd.DataFrame({\"x_0\":chain_0, \"x_1\":chain_1})"
   ]
  },
  {
   "cell_type": "code",
   "execution_count": 36,
   "metadata": {},
   "outputs": [
    {
     "data": {
      "text/plain": [
       "[<matplotlib.lines.Line2D at 0x1270f4c18>]"
      ]
     },
     "execution_count": 36,
     "metadata": {},
     "output_type": "execute_result"
    },
    {
     "data": {
      "image/png": "[encoded data removed]",
      "text/plain": [
       "<Figure size 432x288 with 1 Axes>"
      ]
     },
     "metadata": {
      "needs_background": "light"
     },
     "output_type": "display_data"
    }
   ],
   "source": [
    "fig, ax = plt.subplots()\n",
    "x= np.arange(samples+1)\n",
    "ax.plot(x, data_df[\"x_0\"], c=\"g\")\n",
    "ax.plot(x, data_df[\"x_1\"])"
   ]
  },
  {
   "cell_type": "markdown",
   "metadata": {},
   "source": [
    "With two chains converging to approximately a single value we can be more confident that the sampler reached the true underlying parameter. We can also store the results in a 2d data structures, such as Pandas Dataframes in python memory, and csvs or sql tables for persistent on disk storage."
   ]
  },
  {
   "cell_type": "markdown",
   "metadata": {},
   "source": [
    "## Multiple Variable Multiple Chain Inference Runs"
   ]
  },
  {
   "cell_type": "markdown",
   "metadata": {},
   "source": [
    "A Bayesian modelers, life would be relatively easy if all models only had one variable (univariate models in math speak). Unfortunately many types of models require 2 or more variables. For example in a linear regression we are interested in estimating both **m** and **b**\n",
    "\n",
    "$$ y \\text{~} mx+b$$\n",
    "\n",
    "With at least 3 things to track (chains, samples, and variables) a 2d data structures become limiting. This problem exists in many domains and is the focus of the *xarray* project.\n",
    "\n",
    "A motivating example comes from climate sciences.\n",
    "\n",
    "![XarrayStructure](../../img/dataset-diagram.png)\n",
    "\n",
    "\n"
   ]
  },
  {
   "cell_type": "markdown",
   "metadata": {},
   "source": [
    "### Xarray\n",
    "In ArviZ an xarray DataSet object would look like the one below, where the variables are the Inference run variables, and the coordinates are at a minimum chains, draws."
   ]
  },
  {
   "cell_type": "code",
   "execution_count": 43,
   "metadata": {},
   "outputs": [
    {
     "data": {
      "text/plain": [
       "<xarray.Dataset>\n",
       "Dimensions:  (chain: 2, draw: 3)\n",
       "Coordinates:\n",
       "  * draw     (draw) int64 1 2 3\n",
       "  * chain    (chain) int64 0 1\n",
       "Data variables:\n",
       "    mu       (chain, draw) int64 11 12 13 22 23 24\n",
       "    sd       (chain, draw) int64 33 34 35 44 45 46"
      ]
     },
     "execution_count": 43,
     "metadata": {},
     "output_type": "execute_result"
    }
   ],
   "source": [
    "posterior = xr.Dataset(\n",
    "        {\"mu\": ([\"chain\", \"draw\"], [[11,12,13],[22,23,24]]), \"sd\": ([\"chain\", \"draw\"], [[33,34,35],[44,45,46]])},\n",
    "        coords={\"draw\": [1,2,3], \"chain\": [0,1]},\n",
    "    )\n",
    "posterior"
   ]
  },
  {
   "cell_type": "markdown",
   "metadata": {},
   "source": [
    "## Multiple Variable Multiple Chain Inference runs and associated datasets\n",
    "As a Bayesian modelers, life would be relatively easy if we were only concerned about posterior distributions. Looking back at the full end to end workflow, recall that there are other datasets, such as prior predictive samples, posterior predictive samples, among others. To aid the ArviZ user we present az.InferenceData\n",
    "\n",
    "### az.InferenceData\n",
    "az.Inference data services as a data container for the various xarray datasets that are generated from an end to end bayesian workflow. Consider our earlier simple model."
   ]
  },
  {
   "cell_type": "code",
   "execution_count": 51,
   "metadata": {},
   "outputs": [
    {
     "ename": "ValueError",
     "evalue": "Failed to parse Stan model 'anon_model_00a381d553cbf5998a5912373c03f9cf'. Error message:\nSYNTAX ERROR, MESSAGE(S) FROM PARSER:\n\nUnknown variable: data\n\nUnexpected open block, missing close block \"}\" before keyword \"data\".\n  error in 'unknown file name' at line 12, column 9\n  -------------------------------------------------\n    10: model {\n    11:     mu~ normal(0.0, 1.0);\n    12:     data ~ normal(mu+20, 1);\n                ^\n    13:     }\n  -------------------------------------------------\n\n",
     "output_type": "error",
     "traceback": [
      "\u001b[0;31m---------------------------------------------------------------------------\u001b[0m",
      "\u001b[0;31mValueError\u001b[0m                                Traceback (most recent call last)",
      "\u001b[0;32m<ipython-input-51-22c6348eb9e6>\u001b[0m in \u001b[0;36m<module>\u001b[0;34m\u001b[0m\n\u001b[1;32m     13\u001b[0m     }\n\u001b[1;32m     14\u001b[0m \"\"\"\n\u001b[0;32m---> 15\u001b[0;31m \u001b[0msm\u001b[0m \u001b[0;34m=\u001b[0m \u001b[0mpystan\u001b[0m\u001b[0;34m.\u001b[0m\u001b[0mStanModel\u001b[0m\u001b[0;34m(\u001b[0m\u001b[0mmodel_code\u001b[0m\u001b[0;34m=\u001b[0m\u001b[0mmodel\u001b[0m\u001b[0;34m)\u001b[0m\u001b[0;34m\u001b[0m\u001b[0;34m\u001b[0m\u001b[0m\n\u001b[0m",
      "\u001b[0;32m~/.miniconda3/envs/bayestutorial/lib/python3.7/site-packages/pystan/model.py\u001b[0m in \u001b[0;36m__init__\u001b[0;34m(self, file, charset, model_name, model_code, stanc_ret, include_paths, boost_lib, eigen_lib, verbose, obfuscate_model_name, extra_compile_args)\u001b[0m\n\u001b[1;32m    221\u001b[0m                                          \u001b[0mverbose\u001b[0m\u001b[0;34m=\u001b[0m\u001b[0mverbose\u001b[0m\u001b[0;34m,\u001b[0m\u001b[0;34m\u001b[0m\u001b[0;34m\u001b[0m\u001b[0m\n\u001b[1;32m    222\u001b[0m                                          \u001b[0minclude_paths\u001b[0m\u001b[0;34m=\u001b[0m\u001b[0minclude_paths\u001b[0m\u001b[0;34m,\u001b[0m\u001b[0;34m\u001b[0m\u001b[0;34m\u001b[0m\u001b[0m\n\u001b[0;32m--> 223\u001b[0;31m                                          obfuscate_model_name=obfuscate_model_name)\n\u001b[0m\u001b[1;32m    224\u001b[0m \u001b[0;34m\u001b[0m\u001b[0m\n\u001b[1;32m    225\u001b[0m         \u001b[0;32mif\u001b[0m \u001b[0;32mnot\u001b[0m \u001b[0misinstance\u001b[0m\u001b[0;34m(\u001b[0m\u001b[0mstanc_ret\u001b[0m\u001b[0;34m,\u001b[0m \u001b[0mdict\u001b[0m\u001b[0;34m)\u001b[0m\u001b[0;34m:\u001b[0m\u001b[0;34m\u001b[0m\u001b[0;34m\u001b[0m\u001b[0m\n",
      "\u001b[0;32m~/.miniconda3/envs/bayestutorial/lib/python3.7/site-packages/pystan/api.py\u001b[0m in \u001b[0;36mstanc\u001b[0;34m(file, charset, model_code, model_name, include_paths, verbose, obfuscate_model_name)\u001b[0m\n\u001b[1;32m    165\u001b[0m             \u001b[0mmsg\u001b[0m \u001b[0;34m=\u001b[0m \u001b[0mmsg\u001b[0m\u001b[0;34m.\u001b[0m\u001b[0mencode\u001b[0m\u001b[0;34m(\u001b[0m\u001b[0;34m'ascii'\u001b[0m\u001b[0;34m,\u001b[0m \u001b[0;34m'replace'\u001b[0m\u001b[0;34m)\u001b[0m\u001b[0;34m\u001b[0m\u001b[0;34m\u001b[0m\u001b[0m\n\u001b[1;32m    166\u001b[0m         \u001b[0merror_msg\u001b[0m \u001b[0;34m=\u001b[0m \u001b[0;34m\"Failed to parse Stan model '{}'. Error message:\\n{}\"\u001b[0m\u001b[0;34m.\u001b[0m\u001b[0mformat\u001b[0m\u001b[0;34m(\u001b[0m\u001b[0mmodel_name\u001b[0m\u001b[0;34m,\u001b[0m \u001b[0mmsg\u001b[0m\u001b[0;34m)\u001b[0m\u001b[0;34m\u001b[0m\u001b[0;34m\u001b[0m\u001b[0m\n\u001b[0;32m--> 167\u001b[0;31m         \u001b[0;32mraise\u001b[0m \u001b[0mValueError\u001b[0m\u001b[0;34m(\u001b[0m\u001b[0merror_msg\u001b[0m\u001b[0;34m)\u001b[0m\u001b[0;34m\u001b[0m\u001b[0;34m\u001b[0m\u001b[0m\n\u001b[0m\u001b[1;32m    168\u001b[0m     \u001b[0;32melif\u001b[0m \u001b[0mresult\u001b[0m\u001b[0;34m[\u001b[0m\u001b[0;34m'status'\u001b[0m\u001b[0;34m]\u001b[0m \u001b[0;34m==\u001b[0m \u001b[0;36m0\u001b[0m\u001b[0;34m:\u001b[0m  \u001b[0;31m# SUCCESS_RC is 0\u001b[0m\u001b[0;34m\u001b[0m\u001b[0;34m\u001b[0m\u001b[0m\n\u001b[1;32m    169\u001b[0m         \u001b[0mlogger\u001b[0m\u001b[0;34m.\u001b[0m\u001b[0mdebug\u001b[0m\u001b[0;34m(\u001b[0m\u001b[0;34m\"Successfully parsed Stan model '{}'.\"\u001b[0m\u001b[0;34m.\u001b[0m\u001b[0mformat\u001b[0m\u001b[0;34m(\u001b[0m\u001b[0mmodel_name\u001b[0m\u001b[0;34m)\u001b[0m\u001b[0;34m)\u001b[0m\u001b[0;34m\u001b[0m\u001b[0;34m\u001b[0m\u001b[0m\n",
      "\u001b[0;31mValueError\u001b[0m: Failed to parse Stan model 'anon_model_00a381d553cbf5998a5912373c03f9cf'. Error message:\nSYNTAX ERROR, MESSAGE(S) FROM PARSER:\n\nUnknown variable: data\n\nUnexpected open block, missing close block \"}\" before keyword \"data\".\n  error in 'unknown file name' at line 12, column 9\n  -------------------------------------------------\n    10: model {\n    11:     mu~ normal(0.0, 1.0);\n    12:     data ~ normal(mu+20, 1);\n                ^\n    13:     }\n  -------------------------------------------------\n\n"
     ]
    }
   ],
   "source": [
    "model = \"\"\"\n",
    "data {\n",
    "    real y; // Observed data\n",
    "}\n",
    "\n",
    "parameters {\n",
    "    real mu; // Estimated of parameter\n",
    "}\n",
    "\n",
    "model {\n",
    "    mu~ normal(0.0, 1.0);\n",
    "    data ~ normal(mu+20, 1);\n",
    "    }\n",
    "\"\"\"\n",
    "sm = pystan.StanModel(model_code=model)"
   ]
  },
  {
   "cell_type": "code",
   "execution_count": null,
   "metadata": {},
   "outputs": [],
   "source": [
    "# Ask Ari for help generating prior distribution, posterior predictive, sample stats, and data, to show of az.InferenceData\n",
    "fit = sm.sampling(data=data, iter=1000, chains=4)"
   ]
  },
  {
   "cell_type": "markdown",
   "metadata": {},
   "source": [
    "### NetCDF\n",
    "Calculating the various datasets may not be is usually not trivial. Network Common Data Form (NetCDF) is an open standard for storing multidimensional datasets like xarray. It even comes with groups support making it easy to serialize az.InferenceData straight to disk. ArviZ utilizes NetCDF to allow \"save\" the results, share with others.\n",
    " \n",
    "ArviZ even ships with sample datasets, serialized in NetCDF\n",
    "https://github.com/arviz-devs/arviz/tree/master/arviz/data/_datasets\n",
    "\n",
    "\n",
    "In short like SQL is to pandas, NetCDF is to az.Inference data."
   ]
  },
  {
   "cell_type": "code",
   "execution_count": null,
   "metadata": {},
   "outputs": [],
   "source": [
    "data = az.load_arviz_data(\"centered_eight\")\n",
    "data"
   ]
  },
  {
   "cell_type": "markdown",
   "metadata": {},
   "source": [
    "## The benefits of az.InferenceData\n",
    "One of the goals for the ArviZ developers is to ensure that Bayesian practioners can share and reproduce analyses regardless of PPl, regardless of language and az.InferenceData was the implementation of this iea.\n",
    "\n",
    "In summary az.InferenceData \n",
    "* provides a consistent format for Bayesian Datasets.\n",
    "* makes it easy to save results\n",
    "* makes use of ArviZ plotting and statistics functions simpler\n",
    "* stores metadata for ease of reproducility"
   ]
  },
  {
   "cell_type": "markdown",
   "metadata": {},
   "source": [
    "## InferenceData in practice\n",
    "In practice it's rare to ever generate a xarray manually for use in ArviZ. Instead ArviZ provides methods for instatiating InferenceData from plain python objects, mappings to various PPLs, as well as methods to save and load NetCDF files.\n",
    "\n",
    "For further references consider the ArviZ cookbook, and data structure tutorial.\n",
    "https://arviz-devs.github.io/arviz/notebooks/InferenceDataCookbook.html\n",
    "https://arviz-devs.github.io/arviz/notebooks/XarrayforArviZ.html\n",
    "\n",
    "## Examples\n",
    "See below for some useful methods of interacting with az.InferenceData, Xarray, and NetCDF\n",
    "Show how to \n",
    "* Load InferenceData from disk\n",
    "* Get specific groups from InferenceData\n",
    "* Subselect a single chain or groups of chains\n",
    "* Subselect certain\n",
    "* Load InferenceData frm\n",
    "\n",
    "For Xarray methods we only demo a subset of the available api. For a much more comprehensive explanation view the indexing and selection page from the xarray docs\n",
    "http://xarray.pydata.org/en/stable/indexing.html"
   ]
  },
  {
   "cell_type": "markdown",
   "metadata": {},
   "source": [
    "### Creating InferenceData objects\n",
    "We can create an InferenceData objects from our \"home built\" chain from earlier"
   ]
  },
  {
   "cell_type": "code",
   "execution_count": 50,
   "metadata": {},
   "outputs": [
    {
     "data": {
      "text/plain": [
       "Inference data with groups:\n",
       "\t> posterior"
      ]
     },
     "execution_count": 50,
     "metadata": {},
     "output_type": "execute_result"
    }
   ],
   "source": [
    "data_dict = {\"mu\": [chain_0, chain_1]}\n",
    "home_built_data = az.from_dict(data_dict)\n",
    "home_built_data"
   ]
  },
  {
   "cell_type": "markdown",
   "metadata": {},
   "source": [
    "Often though we will either load data from a ppl's output or from disk"
   ]
  },
  {
   "cell_type": "code",
   "execution_count": null,
   "metadata": {},
   "outputs": [],
   "source": [
    "# Load NetCDF from disk into memory\n",
    "## Replace with NetCDF that's \"visible\"\n",
    "data = az.load_arviz_data(\"centered_eight\")"
   ]
  },
  {
   "cell_type": "code",
   "execution_count": null,
   "metadata": {},
   "outputs": [],
   "source": [
    "# Reference posterior directly\n",
    "posterior = data.posterior\n",
    "posterior"
   ]
  },
  {
   "cell_type": "code",
   "execution_count": null,
   "metadata": {},
   "outputs": [],
   "source": [
    "# Select specific variables\n",
    "posterior[[\"mu\", \"tau\"]]"
   ]
  },
  {
   "cell_type": "code",
   "execution_count": null,
   "metadata": {},
   "outputs": [],
   "source": [
    "# Select specific chains and draws\n",
    "posterior.sel(chain=[0,2], draw=slice(0,200))"
   ]
  },
  {
   "cell_type": "code",
   "execution_count": null,
   "metadata": {},
   "outputs": [],
   "source": [
    "# Get first 10 samples of mu from chain 0\n",
    "posterior[\"mu\"].sel(chain=0, draw=slice(0,10)).values"
   ]
  },
  {
   "cell_type": "markdown",
   "metadata": {},
   "source": [
    "## Extra Credit\n",
    "* xarray supports numpy ufuncs https://docs.scipy.org/doc/numpy/reference/ufuncs.html. ArviZ uses these under the hood for efficient calculations"
   ]
  }
 ],
 "metadata": {
  "kernelspec": {
   "display_name": "Python 3",
   "language": "python",
   "name": "python3"
  },
  "language_info": {
   "codemirror_mode": {
    "name": "ipython",
    "version": 3
   },
   "file_extension": ".py",
   "mimetype": "text/x-python",
   "name": "python",
   "nbconvert_exporter": "python",
   "pygments_lexer": "ipython3",
   "version": "3.7.2"
  }
 },
 "nbformat": 4,
 "nbformat_minor": 2
}
